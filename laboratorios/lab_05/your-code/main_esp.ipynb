{
 "cells": [
  {
   "cell_type": "markdown",
   "metadata": {},
   "source": [
    "# Antes de empezar:\n",
    "- Lee el archivo README.md\n",
    "- Comenta todo lo que puedas y utiliza los recursos en el archivo README.md\n",
    "- ¡Feliz aprendizaje!"
   ]
  },
  {
   "cell_type": "code",
   "execution_count": null,
   "metadata": {},
   "outputs": [],
   "source": [
    "# Import reduce from functools, numpy and pandas\n",
    "from functools import reduce\n",
    "import numpy\n",
    "import pandas"
   ]
  },
  {
   "cell_type": "markdown",
   "metadata": {},
   "source": [
    "# Desafío 1 - Mapping\n",
    "\n",
    "#### Usaremos la función map para limpiar palabras en un libro.\n",
    "\n",
    "En la siguiente celda, leeremos un archivo de texto que contiene el libro El Profeta de Khalil Gibran."
   ]
  },
  {
   "cell_type": "code",
   "execution_count": null,
   "metadata": {},
   "outputs": [],
   "source": [
    "# Corre este codigo:\n",
    "\n",
    "location = '../data/58585-0.txt'\n",
    "with open(location, 'r', encoding=\"utf8\") as f:\n",
    "    prophet = f.read().split(' ')"
   ]
  },
  {
   "cell_type": "code",
   "execution_count": null,
   "metadata": {},
   "outputs": [],
   "source": [
    "len(prophet)"
   ]
  },
  {
   "cell_type": "markdown",
   "metadata": {},
   "source": [
    "#### Vamos a eliminar las primeras 568 palabras ya que contienen información sobre el libro pero no son parte del libro en sí.\n",
    "\n",
    "Haz esto eliminando de `prophet` los elementos del 0 al 567 de la lista (también puedes hacer esto manteniendo los elementos del 568 al último elemento)."
   ]
  },
  {
   "cell_type": "code",
   "execution_count": null,
   "metadata": {},
   "outputs": [],
   "source": [
    "# tu codigo aquí"
   ]
  },
  {
   "cell_type": "markdown",
   "metadata": {},
   "source": [
    "Si revisas las palabras, encontrarás que muchas palabras tienen una referencia adjunta a ellas. Por ejemplo, veamos las palabras del 1 al 10."
   ]
  },
  {
   "cell_type": "code",
   "execution_count": null,
   "metadata": {},
   "outputs": [],
   "source": [
    "# tu codigo aquí"
   ]
  },
  {
   "cell_type": "markdown",
   "metadata": {},
   "source": [
    "#### El siguiente paso es crear una función que eliminará las referencias.\n",
    "\n",
    "Haremos esto dividiendo la cadena en el carácter `{` y manteniendo solo la parte antes de este carácter. Escribe tu función a continuación."
   ]
  },
  {
   "cell_type": "code",
   "execution_count": null,
   "metadata": {},
   "outputs": [],
   "source": [
    "def referencia(x):\n",
    "    '''\n",
    "    Entrada: Una cadena\n",
    "    Salida: La cadena con las referencias eliminadas\n",
    "    \n",
    "    Ejemplo:\n",
    "    Entrada: 'the{7}'\n",
    "    Salida: 'the'\n",
    "    '''\n",
    "    \n",
    "    # tu código aquí"
   ]
  },
  {
   "cell_type": "markdown",
   "metadata": {},
   "source": [
    "Ahora que tenemos nuestra función, usa la función `map()` para aplicar esta función a nuestro libro, El Profeta. Devuelve la lista resultante a una nueva lista llamada `prophet_reference`."
   ]
  },
  {
   "cell_type": "code",
   "execution_count": null,
   "metadata": {},
   "outputs": [],
   "source": [
    "# tu codigo aquí"
   ]
  },
  {
   "cell_type": "markdown",
   "metadata": {},
   "source": [
    "Otra cosa que podrías haber notado es que algunas palabras contienen un salto de línea. Escribamos una función para dividir esas palabras. Nuestra función devolverá la cadena dividida en el carácter `\\n`. Escribe tu función en la celda de abajo."
   ]
  },
  {
   "cell_type": "code",
   "execution_count": null,
   "metadata": {},
   "outputs": [],
   "source": [
    "def salto_de_linea(x):\n",
    "    '''\n",
    "    Entrada: Una cadena\n",
    "    Salida: Una lista de cadenas divididas en el carácter de salto de línea (\\n)\n",
    "        \n",
    "    Ejemplo:\n",
    "    Entrada: 'the\\nbeloved'\n",
    "    Salida: ['the', 'beloved']\n",
    "    '''\n",
    "    \n",
    "    # tu código aquí"
   ]
  },
  {
   "cell_type": "markdown",
   "metadata": {},
   "source": [
    "Aplica la función `salto_de_linea` a la lista `prophet_reference`. Nombra la nueva lista `prophet_line`."
   ]
  },
  {
   "cell_type": "code",
   "execution_count": null,
   "metadata": {
    "scrolled": true
   },
   "outputs": [],
   "source": [
    "# tu codigo aquí"
   ]
  },
  {
   "cell_type": "markdown",
   "metadata": {},
   "source": [
    "Si miras los elementos de `prophet_line`, verás que la función devolvió listas y no cadenas. Nuestra lista ahora es una lista de listas. Aplana la lista usando comprensión de listas. Asigna esta nueva lista a `prophet_flat`."
   ]
  },
  {
   "cell_type": "code",
   "execution_count": null,
   "metadata": {},
   "outputs": [],
   "source": [
    "prophet_flat = [i for sub in prophet_line for i in sub]\n",
    "prophet_flat"
   ]
  },
  {
   "cell_type": "code",
   "execution_count": null,
   "metadata": {},
   "outputs": [],
   "source": [
    "# tu codigo aquí"
   ]
  },
  {
   "cell_type": "markdown",
   "metadata": {},
   "source": [
    "# Desafío 2 - Filtering\n",
    "\n",
    "Al imprimir algunas palabras del libro, vemos que hay palabras que tal vez no queramos conservar si elegimos analizar el corpus de texto. A continuación, se muestra una lista de palabras que nos gustaría eliminar. Crea una función que devuelva falso si contiene una palabra de la lista de palabras especificadas y verdadero de lo contrario."
   ]
  },
  {
   "cell_type": "code",
   "execution_count": null,
   "metadata": {},
   "outputs": [],
   "source": [
    "def filtro_palabra(x):\n",
    "    '''\n",
    "    Entrada: Una cadena\n",
    "    Salida: Verdadero si la palabra no está en la lista especificada \n",
    "    y Falso si la palabra está en la lista.\n",
    "        \n",
    "    Ejemplo:\n",
    "    lista de palabras = ['and', 'the']\n",
    "    Entrada: 'and'\n",
    "    Salida: FALSE\n",
    "    \n",
    "    Entrada: 'John'\n",
    "    Salida: TRUE\n",
    "    '''\n",
    "    \n",
    "    lista_palabras = ['and', 'the', 'a', 'an']\n",
    "    \n",
    "    # tu código aquí"
   ]
  },
  {
   "cell_type": "markdown",
   "metadata": {},
   "source": [
    "Usa la función `filter()` para filtrar las palabras especificadas en la función `filtro_palabra()`. Guarda la lista filtrada en la variable `prophet_filter`.\n"
   ]
  },
  {
   "cell_type": "code",
   "execution_count": null,
   "metadata": {
    "scrolled": true
   },
   "outputs": [],
   "source": [
    "# tu codigo aquí"
   ]
  },
  {
   "cell_type": "markdown",
   "metadata": {},
   "source": [
    "# Desafío extra\n",
    "\n",
    "Reescribe la función `filtro_palabra` de arriba para que no sea sensible a mayúsculas y minúsculas."
   ]
  },
  {
   "cell_type": "code",
   "execution_count": null,
   "metadata": {},
   "outputs": [],
   "source": [
    "def word_filter_case(x):\n",
    "   \n",
    "    word_list = ['and', 'the', 'a', 'an']\n",
    "    \n",
    "    # your code here\n",
    "    counting = sum([x.lower().count(i) for i in word_list])\n",
    "    return False if counting > 0 else True"
   ]
  },
  {
   "cell_type": "markdown",
   "metadata": {},
   "source": [
    "# Desafío 3 - Reducing\n",
    "\n",
    "#### Ahora que hemos limpiado significativamente nuestro corpus de texto, usemos la función `reduce()` para volver a unir las palabras en una cadena larga separada por espacios.\n",
    "\n",
    "Comenzaremos escribiendo una función que toma dos cadenas y las concatena juntas con un espacio entre las dos cadenas.\n"
   ]
  },
  {
   "cell_type": "code",
   "execution_count": null,
   "metadata": {},
   "outputs": [],
   "source": [
    "def concatenar_espacio(a, b):\n",
    "    '''\n",
    "    Entrada: Dos cadenas\n",
    "    Salida: Una única cadena separada por un espacio\n",
    "        \n",
    "    Ejemplo:\n",
    "    Entrada: 'John', 'Smith'\n",
    "    Salida: 'John Smith'\n",
    "    '''\n",
    "    \n",
    "    # tu código aquí"
   ]
  },
  {
   "cell_type": "code",
   "execution_count": null,
   "metadata": {
    "scrolled": true
   },
   "outputs": [],
   "source": [
    "# tu código aquí"
   ]
  },
  {
   "cell_type": "markdown",
   "metadata": {},
   "source": [
    "Usa la función de arriba para reducir el corpus de texto en la lista `prophet_filter` a una única cadena. Asigna esta nueva cadena a la variable `prophet_string`."
   ]
  },
  {
   "cell_type": "code",
   "execution_count": null,
   "metadata": {},
   "outputs": [],
   "source": [
    "# tu código aquí"
   ]
  }
 ],
 "metadata": {
  "kernelspec": {
   "display_name": "Python 3 (ipykernel)",
   "language": "python",
   "name": "python3"
  },
  "language_info": {
   "codemirror_mode": {
    "name": "ipython",
    "version": 3
   },
   "file_extension": ".py",
   "mimetype": "text/x-python",
   "name": "python",
   "nbconvert_exporter": "python",
   "pygments_lexer": "ipython3",
   "version": "3.10.12"
  }
 },
 "nbformat": 4,
 "nbformat_minor": 4
}
