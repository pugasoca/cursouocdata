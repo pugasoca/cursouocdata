{
 "cells": [
  {
   "cell_type": "markdown",
   "id": "056d93d6-e05c-413b-af14-fa41afc73d23",
   "metadata": {},
   "source": [
    "## Ejercicio: Generador de Informes de Ventas\n",
    "\n",
    "**Escenario Empresarial:**\n",
    "Imagina que trabajas para una empresa minorista que vende gadgets electrónicos. Tu tarea es crear un programa en Python que genere informes de ventas basados en varios parámetros. Necesitas definir una función que llame a varias funciones auxiliares para procesar y devolver un resumen detallado de los datos de ventas.\n",
    "\n",
    "**Instrucciones:**\n",
    "\n",
    "1. Define una función llamada `generate_sales_report` con los siguientes parámetros:\n",
    "   - `store_name` (str): El nombre de la tienda minorista.\n",
    "   - `date` (str): La fecha del informe de ventas.\n",
    "   - `*sales_data` (tuplas): Un número variable de tuplas donde cada tupla representa la venta de un gadget electrónico y contiene los siguientes elementos:\n",
    "     - Nombre del artículo (str)\n",
    "     - Precio unitario (float)\n",
    "     - Cantidad vendida (int)\n",
    "\n",
    "2. Utiliza **anotaciones de tipo de datos** para especificar los tipos de datos esperados para cada parámetro.\n",
    "\n",
    "3. Incluye un **docstring** que explique qué hace la función y describa cada parámetro.\n",
    "\n",
    "4. Implementa la función `generate_sales_report` de manera que llame a las siguientes funciones auxiliares para calcular y devolver la siguiente información:\n",
    "   - **`calculate_total_sales(sales_data: List[Tuple[str, float, int]], include_tax: bool) -> float`**: Calcula el total de ventas de todos los artículos y, opcionalmente, incluye un impuesto del 10%.\n",
    "   - **`calculate_average_price(sales_data: List[Tuple[str, float, int]]) -> float`**: Calcula el precio unitario promedio de los artículos vendidos.\n",
    "   - **`count_total_items(sales_data: List[Tuple[str, float, int]]) -> int`**: Cuenta el número total de artículos vendidos.\n",
    "   - **`find_min_max_price_item(sales_data: List[Tuple[str, float, int]]) -> Tuple[Tuple[str, float], Tuple[str, float]]`**: Encuentra el artículo más caro y el más barato vendido, devolviendo sus nombres y precios.\n",
    "   - **`generate_report(store_name: str, date: str, total_sales: float, average_price: float, total_items: int, min_item: Tuple[str, float], max_item: Tuple[str, float], currency: str) -> str`**: Genera el informe final de ventas en formato de texto.\n",
    "\n",
    "5. Usa el parámetro `**kwargs` en `generate_sales_report` para permitir argumentos de palabra clave opcionales. Incluye los siguientes argumentos de palabra clave opcionales:\n",
    "   - `include_tax` (bool, predeterminado False): Si es True, calcula la cantidad total de ventas incluyendo un impuesto sobre las ventas del 10%.\n",
    "   - `currency` (str, predeterminado 'USD'): El símbolo de moneda a usar en el informe.\n",
    "\n",
    "6. Crea un informe de ventas de ejemplo usando la función `generate_sales_report`. Incluye una mezcla de diferentes gadgets, cantidades y precios en los datos de ventas.\n",
    "\n",
    "7. Imprime el informe de ventas, incluyendo toda la información calculada, en un formato amigable para el usuario.\n",
    "\n",
    "8. Prueba la función con diferentes conjuntos de datos de ventas y argumentos de palabra clave opcionales para asegurarte de que funcione como se espera.\n",
    "\n",
    "**Ejemplo de Uso:**\n",
    "\n",
    "```python\n",
    "sales_report = generate_sales_report(\n",
    "    \"Gadget Store\", \n",
    "    \"2023-09-15\", \n",
    "    (\"Phone\", 499.99, 10), \n",
    "    (\"Tablet\", 299.99, 5), \n",
    "    (\"Laptop\", 899.99, 3),\n",
    "    (\"Smart Watch\", 199.99, 15),\n",
    "    (\"Headphones\", 149.99, 20),\n",
    "    (\"Camera\", 499.99, 2),\n",
    "    (\"Drone\", 1599.99, 1),\n",
    "    (\"Speaker\", 99.99, 7),\n",
    "    include_tax=True, \n",
    "    currency='EUR'\n",
    ")\n",
    "print(sales_report)\n",
    "```\n",
    "\n",
    "**Salida Esperada:**\n",
    "```\n",
    "Informe de Ventas de Gadget Store\n",
    "Fecha: 2023-09-15\n",
    "Total de Ventas: EUR20349.31\n",
    "Precio Promedio: EUR293.64\n",
    "Total de Artículos Vendidos: 63\n",
    "Artículo Más Barato: Speaker a EUR99.99\n",
    "Artículo Más Caro: Drone a EUR1599.99\n",
    "```"
   ]
  },
  {
   "cell_type": "code",
   "execution_count": null,
   "id": "c365f4f5-add5-4262-9c9a-3ef9aafec899",
   "metadata": {},
   "outputs": [],
   "source": [
    "from typing import List, Tuple\n",
    "\n",
    "# Función para calcular el total de ventas\n",
    "def calculate_total_sales(sales_data: List[Tuple[str, float, int]], include_tax: bool) -> float:"
   ]
  },
  {
   "cell_type": "code",
   "execution_count": null,
   "id": "e70e3798-d1d3-45e5-877c-04d435a23dec",
   "metadata": {},
   "outputs": [],
   "source": [
    "# Función para calcular el precio promedio\n",
    "def calculate_average_price(sales_data: List[Tuple[str, float, int]]) -> float:"
   ]
  },
  {
   "cell_type": "code",
   "execution_count": null,
   "id": "17e05cc5-5776-4586-b0c6-79f641143574",
   "metadata": {},
   "outputs": [],
   "source": [
    "# Función para contar el total de artículos\n",
    "def count_total_items(sales_data: List[Tuple[str, float, int]]) -> int:"
   ]
  },
  {
   "cell_type": "code",
   "execution_count": null,
   "id": "47e24c48-3c55-4f17-87f4-828e16b407fe",
   "metadata": {},
   "outputs": [],
   "source": [
    "# Función para encontrar el artículo más caro y el más barato\n",
    "def find_min_max_price_item(sales_data: List[Tuple[str, float, int]]) -> Tuple[Tuple[str, float], Tuple[str, float]]:"
   ]
  },
  {
   "cell_type": "code",
   "execution_count": null,
   "id": "41edd3cc-3600-4ca7-9730-cadc1b65a8bc",
   "metadata": {},
   "outputs": [],
   "source": [
    "# Función para generar el informe\n",
    "def generate_report(store_name: str, date: str, total_sales: float, average_price: float,\n",
    "                    total_items: int, min_item: Tuple[str, float], max_item: Tuple[str, float],\n",
    "                    currency: str) -> str:"
   ]
  },
  {
   "cell_type": "code",
   "execution_count": null,
   "id": "d5428ea0-9fe0-4c24-b50d-a995314be580",
   "metadata": {},
   "outputs": [],
   "source": [
    "# Función principal para generar el informe de ventas\n",
    "def generate_sales_report(store_name: str, date: str, *sales_data: Tuple[str, float, int], \n",
    "                          **kwargs) -> str:"
   ]
  },
  {
   "cell_type": "code",
   "execution_count": null,
   "id": "f661baaa-cd27-4273-9d69-8f8bdd1ca15c",
   "metadata": {},
   "outputs": [],
   "source": [
    "# Ejemplo de uso\n",
    "sales_report = generate_sales_report(\n",
    "    \"Gadget Store\", \n",
    "    \"2023-09-15\", \n",
    "    (\"Phone\", 499.99, 10), \n",
    "    (\"Tablet\", 299.99, 5), \n",
    "    (\"Laptop\", 899.99, 3),\n",
    "    (\"Smart Watch\", 199.99, 15),\n",
    "    (\"Headphones\", 149.99, 20),\n",
    "    (\"Camera\", 499.99, 2),\n",
    "    (\"Drone\", 1599.99, 1),\n",
    "    (\"Speaker\", 99.99, 7),\n",
    "    include_tax=True, \n",
    "    currency='EUR'\n",
    ")\n",
    "\n",
    "print(sales_report)"
   ]
  },
  {
   "cell_type": "markdown",
   "id": "efd52db1-0273-44e5-aa63-b1b435bc3933",
   "metadata": {},
   "source": [
    "# Ejercicio: Generador de Informes de Registro de Estudiantes\n",
    "\n",
    "**Escenario Escolar:**\n",
    "Imagina que trabajas en una escuela y tu tarea es crear un programa en Python que genere informes de registro de estudiantes basados en varios parámetros. \n",
    "Necesitas definir una función que llame a varias funciones auxiliares para procesar y devolver un resumen detallado de los datos de los estudiantes registrados.\n",
    "\n",
    "**Instrucciones:**\n",
    "\n",
    "1. Define una función llamada `generate_student_report` con los siguientes parámetros:\n",
    "   - `school_name` (str): El nombre de la escuela.\n",
    "   - `date` (str): La fecha del informe de registro.\n",
    "   - `*student_data` (tuplas): Un número variable de tuplas donde cada tupla representa a un estudiante y contiene los siguientes elementos:\n",
    "     - Nombre del estudiante (str)\n",
    "     - Edad del estudiante (int)\n",
    "     - Grado (str)\n",
    "\n",
    "2. Utiliza **anotaciones de tipo de datos** para especificar los tipos de datos esperados para cada parámetro.\n",
    "\n",
    "3. Incluye un **docstring** que explique qué hace la función y describa cada parámetro.\n",
    "\n",
    "4. Implementa la función `generate_student_report` de manera que llame a las siguientes funciones auxiliares para calcular y devolver la siguiente información:\n",
    "   - **`calculate_total_students(student_data: List[Tuple[str, int, str]]) -> int`**: \n",
    "     - Cuenta el número total de estudiantes registrados.\n",
    "     - Debe incluir gestión de errores usando `assert` para asegurarse de que `student_data` no esté vacío.\n",
    "   - **`calculate_average_age(student_data: List[Tuple[str, int, str]]) -> float`**: \n",
    "     - Calcula la edad promedio de los estudiantes.\n",
    "     - Debe manejar excepciones utilizando `try`, `except`, `else` y `finally`.\n",
    "   - **`find_min_max_age_student(student_data: List[Tuple[str, int, str]]) -> Tuple[Tuple[str, int], Tuple[str, int]]`**: \n",
    "     - Encuentra el estudiante más joven y el más viejo, devolviendo sus nombres y edades.\n",
    "     - Debe lanzar una excepción si no se encuentran estudiantes usando `raise`.\n",
    "   - **`generate_report(school_name: str, date: str, total_students: int, average_age: float, min_student: Tuple[str, int], max_student: Tuple[str, int]) -> str`**: \n",
    "     - Genera el informe final de registro de estudiantes en formato de texto.\n",
    "     - Debe incluir gestión de errores para asegurar que los datos sean válidos, usando `try` y `except`.\n",
    "\n",
    "5. Usa el parámetro `**kwargs` en `generate_student_report` para permitir argumentos de palabra clave opcionales. Incluye los siguientes argumentos de palabra clave opcionales:\n",
    "   - `grade_filter` (str, predeterminado None): Si se proporciona, filtra el informe para incluir solo estudiantes de ese grado.\n",
    "\n",
    "6. Crea un informe de registro de ejemplo usando la función `generate_student_report`. Incluye una mezcla de diferentes estudiantes, edades y grados en los datos.\n",
    "\n",
    "7. Imprime el informe de registro, incluyendo toda la información calculada, en un formato amigable para el usuario.\n",
    "\n",
    "8. Prueba la función con diferentes conjuntos de datos de estudiantes y argumentos de palabra clave opcionales para asegurarte de que funcione como se espera.\n",
    "\n",
    "**Ejemplo de Uso:**\n",
    "\n",
    "```python\n",
    "student_report = generate_student_report(\n",
    "    \"Escuela Primaria\", \n",
    "    \"2023-09-15\", \n",
    "    (\"Juan Pérez\", 10, \"5to\"), \n",
    "    (\"María López\", 9, \"4to\"), \n",
    "    (\"Carlos Gómez\", 11, \"5to\"),\n",
    "    (\"Ana Torres\", 8, \"3ro\"),\n",
    "    (\"Luis Martínez\", 10, \"5to\"),\n",
    "    (\"Laura Jiménez\", 7, \"2do\"),\n",
    "    (\"Pedro González\", 12, \"6to\"),\n",
    "    (\"Sofía Fernández\", 9, \"4to\"),\n",
    "    grade_filter=\"5to\"\n",
    ")\n",
    "print(student_report)\n",
    "```\n",
    "\n",
    "**Salida Esperada:**\n",
    "```\n",
    "Informe de Registro de Estudiantes de Escuela Primaria\n",
    "Fecha: 2023-09-15\n",
    "Total de Estudiantes: 3\n",
    "Edad Promedio: 10.0\n",
    "Estudiante Más Joven: Ana Torres, 8 años\n",
    "Estudiante Más Viejo: Carlos Gómez, 11 años\n",
    "```\n"
   ]
  },
  {
   "cell_type": "code",
   "execution_count": null,
   "id": "a0aede9e-d796-4893-ace1-2b97de568f70",
   "metadata": {},
   "outputs": [],
   "source": [
    "from typing import List, Tuple, Optional\n",
    "\n",
    "def generate_student_report(school_name: str, date: str, *student_data: Tuple[str, int, str], **kwargs) -> str:"
   ]
  },
  {
   "cell_type": "code",
   "execution_count": null,
   "id": "33038445-f41b-43f5-b034-54fbfca39945",
   "metadata": {},
   "outputs": [],
   "source": [
    "def calculate_total_students(student_data: List[Tuple[str, int, str]]) -> int:"
   ]
  },
  {
   "cell_type": "code",
   "execution_count": null,
   "id": "5e09687f-4aac-4541-8bb6-0a9ba40011c4",
   "metadata": {},
   "outputs": [],
   "source": [
    "def calculate_average_age(student_data: List[Tuple[str, int, str]]) -> float:"
   ]
  },
  {
   "cell_type": "code",
   "execution_count": null,
   "id": "1df2bb4e-f731-42d6-ab83-3c792c679dc3",
   "metadata": {},
   "outputs": [],
   "source": [
    "def find_min_max_age_student(student_data: List[Tuple[str, int, str]]) -> Tuple[Tuple[str, int], Tuple[str, int]]:"
   ]
  },
  {
   "cell_type": "code",
   "execution_count": null,
   "id": "5cba53b2-3789-4f4c-8376-efc853bf631f",
   "metadata": {},
   "outputs": [],
   "source": [
    "def generate_report(school_name: str, date: str, total_students: int, average_age: float,\n",
    "                    min_student: Tuple[str, int], max_student: Tuple[str, int]) -> str:"
   ]
  },
  {
   "cell_type": "code",
   "execution_count": null,
   "id": "fe4017f0-42df-49c7-a4f8-b86410f9e560",
   "metadata": {},
   "outputs": [],
   "source": [
    "# Ejemplo de uso\n",
    "student_report = generate_student_report(\n",
    "    \"Escuela Primaria\", \n",
    "    \"2023-09-15\", \n",
    "    (\"Juan Pérez\", 10, \"5to\"), \n",
    "    (\"María López\", 9, \"4to\"), \n",
    "    (\"Carlos Gómez\", 11, \"5to\"),\n",
    "    (\"Ana Torres\", 8, \"3ro\"),\n",
    "    (\"Luis Martínez\", 10, \"5to\"),\n",
    "    (\"Laura Jiménez\", 7, \"2do\"),\n",
    "    (\"Pedro González\", 12, \"6to\"),\n",
    "    (\"Sofía Fernández\", 9, \"4to\"),\n",
    "    grade_filter=\"5to\"\n",
    ")\n",
    "\n",
    "print(student_report)"
   ]
  }
 ],
 "metadata": {
  "kernelspec": {
   "display_name": "Python 3 (ipykernel)",
   "language": "python",
   "name": "python3"
  },
  "language_info": {
   "codemirror_mode": {
    "name": "ipython",
    "version": 3
   },
   "file_extension": ".py",
   "mimetype": "text/x-python",
   "name": "python",
   "nbconvert_exporter": "python",
   "pygments_lexer": "ipython3",
   "version": "3.10.12"
  }
 },
 "nbformat": 4,
 "nbformat_minor": 5
}
