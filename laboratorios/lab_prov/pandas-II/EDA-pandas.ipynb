{
 "cells": [
  {
   "cell_type": "markdown",
   "id": "2284da7e-4aed-425e-8da6-bc294cf971e7",
   "metadata": {},
   "source": [
    "# Ejercicio Práctico: Análisis de Pedidos de Delivery\n",
    "\n",
    "En este ejercicio, llevarás a cabo un análisis de un conjunto de datos que contiene información sobre pedidos de socios falsos dentro de una aplicación de delivery. \n",
    "Los socios falsos son tiendas que no están integradas directamente con la plataforma, y el equipo de contenido gestiona su catálogo de productos y precios. \n",
    "El objetivo de este análisis es descubrir discrepancias en los pedidos y ayudar en la transición a un nuevo modelo de autorización y captura.\n",
    "\n",
    "## 1. Descripción del Conjunto de Datos\n",
    "Familiarízate con las columnas del conjunto de datos que vas a analizar. \n",
    "Los nombres de las columnas actuales son confusos, así que procederemos a renombrarlas para que sean más descriptivas. \n",
    "Utiliza los siguientes nombres de columnas:\n",
    "\n",
    "- `order_id`: Identificador único para cada pedido.\n",
    "- `activation_time_local`: Hora local cuando se activó el pedido.\n",
    "- `country_code`: Código de país para el pedido.\n",
    "- `store_address`: Dirección de la tienda.\n",
    "- `final_status`: Estado final del pedido.\n",
    "- `payment_status`: Estado de pago del pedido.\n",
    "- `products`: Número de productos en el pedido.\n",
    "- `products_total`: Monto total en el momento de la compra en euros (€).\n",
    "- `purchase_total_price`: Monto que el mensajero pagó en la tienda en euros (€).\n"
   ]
  },
  {
   "cell_type": "code",
   "execution_count": 14,
   "id": "fe81bb03-5f1e-426d-992d-38d3cfa3d9db",
   "metadata": {},
   "outputs": [
    {
     "name": "stdout",
     "output_type": "stream",
     "text": [
      "<class 'pandas.core.frame.DataFrame'>\n",
      "RangeIndex: 60399 entries, 0 to 60398\n",
      "Data columns (total 9 columns):\n",
      " #   Column                 Non-Null Count  Dtype  \n",
      "---  ------                 --------------  -----  \n",
      " 0   order_id               60399 non-null  int64  \n",
      " 1   activation_time_local  60399 non-null  object \n",
      " 2   country_code           60399 non-null  object \n",
      " 3   store_address          60399 non-null  int64  \n",
      " 4   final_status           60399 non-null  object \n",
      " 5   payment_status         60399 non-null  object \n",
      " 6   products               60399 non-null  int64  \n",
      " 7   products_total         60399 non-null  float64\n",
      " 8   purchase_total_price   60399 non-null  float64\n",
      "dtypes: float64(2), int64(3), object(4)\n",
      "memory usage: 4.1+ MB\n"
     ]
    }
   ],
   "source": [
    "import pandas as pd\n",
    "df = pd.read_csv(\"datasets/fake_orders_test.csv\")\n",
    "df.columns = ['order_id', 'activation_time_local', 'country_code', 'store_address', 'final_status', 'payment_status', 'products', 'products_total', 'purchase_total_price']\n",
    "df.info()"
   ]
  },
  {
   "cell_type": "markdown",
   "id": "fa4009c9-398b-4cd0-883a-f74a3d30f096",
   "metadata": {},
   "source": [
    "## 2. Contexto del Análisis\n",
    "Los pedidos de socios falsos pueden mostrar discrepancias entre el `products_total` y el `purchase_total_price`. \n",
    "Cuando `products_total` es menor que `purchase_total_price`, clasificamos estos pedidos como \"no autorizados suficientemente\". \n",
    "Tu tarea será investigar estas discrepancias y responder a preguntas clave sobre los pedidos.\n",
    "\n",
    "## 3. Actividades a Realizar\n",
    "\n",
    "### Carga y Preprocesamiento\n",
    "1. **Carga de Datos**: Carga el conjunto de datos en un DataFrame y renombra las columnas según la lista proporcionada.\n",
    "\n",
    "### Análisis Exploratorio\n",
    "2. **Porcentaje de Pedidos No Autorizados**: Calcula el porcentaje de pedidos que no están suficientemente autorizados (donde `products_total < purchase_total_price`).\n",
    "\n",
    "3. **Autorización Incremental**: Determina el porcentaje de pedidos que serían correctamente autorizados si se aplicara un incremento del 20% sobre el `products_total`.\n",
    "\n",
    "4. **Análisis por País**: Utiliza `country_code` para analizar si hay diferencias en los porcentajes anteriores desglosados por país.\n",
    "\n",
    "5. **Valores Faltantes**: Para los pedidos que no cumplen con la autorización, calcula qué valores adicionales serían necesarios para capturar el monto restante (`purchase_total_price - products_total`).\n",
    "\n",
    "6. **Tiendas Problemáticas**: Identifica las tiendas que tienen más problemas en términos de número de pedidos y su valor monetario utilizando la dirección de la tienda (`store_address`).\n",
    "\n",
    "7. **Correlación de Cancelaciones**: Para los pedidos no autorizados suficientemente, investiga si existe una correlación entre la diferencia de precios (`purchase_total_price - products_total`) y las cancelaciones de pedidos (verifica la columna `final_status`).\n",
    "\n",
    "## 4. Técnicas de Análisis\n",
    "Durante tu análisis, considera aplicar las siguientes técnicas:\n",
    "\n",
    "### Subconjuntos\n",
    "- **Selección de Columnas**: Selecciona columnas específicas para análisis como `products_total` y `purchase_total_price`.\n",
    "\n",
    "### Agregaciones\n",
    "- **Groupby**: Realiza agregaciones basadas en `country_code`, calculando la media de `products_total` y el máximo de `purchase_total_price`.\n",
    "\n",
    "- **Tablas Pivote**: Crea una tabla pivote que muestre el promedio de `products_total` por `country_code`.\n",
    "\n",
    "- **Tabulaciones Cruzadas**: Calcula una tabla de frecuencias cruzadas para analizar la relación entre `payment_status` y `final_status`.\n",
    "\n",
    "## 5. Unión, Merge & Concatenación\n",
    "Al finalizar tu análisis, aplica las siguientes técnicas para combinar y consolidar los resultados obtenidos:\n",
    "\n",
    "- **Subtablas**: Crea DataFrames a partir de subtablas o agrupaciones de datos.\n",
    "  - Por ejemplo, genera un DataFrame que contenga solo los pedidos no autorizados suficientemente y otro que contenga solo pedidos de un país específico.\n",
    "\n",
    "- **Operaciones de Agrupación**: \n",
    "  - Realiza operaciones como `mean`, `sum`, y `count` sobre las subtablas creadas para obtener insights adicionales sobre los pedidos.\n",
    "  - Por ejemplo, agrupa los pedidos por `country_code` y calcula el total de `products_total` por país.\n",
    "\n",
    "- **Concatenación de Resultados**: Si has realizado varios análisis, considera concatenar los resultados en un solo DataFrame para una revisión más sencilla.\n",
    "  - Usa `pd.concat()` para combinar DataFrames obtenidos de diferentes análisis, asegurándote de que tengan la misma estructura.\n",
    "\n",
    "- **Merge de Resultados**: Si has creado DataFrames de análisis distintos, puedes combinarlos basándote en columnas comunes.\n",
    "  - Por ejemplo, si tienes un DataFrame que contiene el total de pedidos por tienda y otro con el total de ingresos por tienda, puedes hacer un merge para tener un análisis más completo.\n",
    "  - `merged_df = pd.merge(df1, df2, on='store_address')`\n",
    "\n",
    "- **Join de Resultados**: Para combinar DataFrames basados en sus índices, utiliza `join()`.\n",
    "  - Por ejemplo, si tienes un DataFrame con información adicional sobre los estados de pago, puedes unirlo con el DataFrame principal.\n",
    "  - `joined_df = df1.join(df2.set_index('order_id'), on='order_id', how='inner')`\n",
    "\n",
    "Al final de este ejercicio, deberías haber obtenido insights significativos sobre las fluctuaciones de precios en pedidos pasados \n",
    "y haber evaluado el riesgo asociado con la transición a un nuevo modelo de autorización. \n",
    "Recuerda documentar tus hallazgos a lo largo del análisis."
   ]
  }
 ],
 "metadata": {
  "kernelspec": {
   "display_name": "Python 3 (ipykernel)",
   "language": "python",
   "name": "python3"
  },
  "language_info": {
   "codemirror_mode": {
    "name": "ipython",
    "version": 3
   },
   "file_extension": ".py",
   "mimetype": "text/x-python",
   "name": "python",
   "nbconvert_exporter": "python",
   "pygments_lexer": "ipython3",
   "version": "3.10.12"
  }
 },
 "nbformat": 4,
 "nbformat_minor": 5
}
