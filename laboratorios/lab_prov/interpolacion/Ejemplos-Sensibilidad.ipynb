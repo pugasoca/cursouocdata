{
 "cells": [
  {
   "cell_type": "markdown",
   "id": "35291f6e-af12-44a2-954b-0b0f8c6b61f9",
   "metadata": {},
   "source": [
    "# Ejemplo de sensibilidad en 2 dimensiones"
   ]
  },
  {
   "cell_type": "code",
   "execution_count": 1,
   "id": "259deb71-7b90-45a3-a532-03d05b830dd3",
   "metadata": {},
   "outputs": [
    {
     "name": "stdout",
     "output_type": "stream",
     "text": [
      "Error relativo en x (errx): 6.708203932499369 %\n",
      "Error relativo en b (errb): 14.999998076154089 %\n",
      "Sensibilidad (errb / errx): 2.236067690709774\n"
     ]
    }
   ],
   "source": [
    "import numpy as np\n",
    "\n",
    "epsilon = 1.15 #dilatacion\n",
    "\n",
    "# Matriz A muy mal condicionada en 2 dimensiones\n",
    "A = np.array([[1e4, 15e10],\n",
    "              [20, 3e10]])  # Valores dispares para mantener mal condicionamiento\n",
    "\n",
    "# Vectores x y xp\n",
    "x = np.array([[1000],  # Valor inicial mayor para amplificar el resultado\n",
    "              [500]])  # Valor para el segundo elemento\n",
    "\n",
    "xp = np.array([[1000],  # Sin cambios\n",
    "               [500 * epsilon]])  # Cambio en el segundo elemento\n",
    "\n",
    "# Cálculo de b y bp\n",
    "b = A.dot(x)\n",
    "bp = A.dot(xp)\n",
    "\n",
    "# Cálculo de errores relativos\n",
    "errx = np.linalg.norm(x - xp) / np.linalg.norm(x)  # Error relativo en x\n",
    "errb = np.linalg.norm(b - bp) / np.linalg.norm(b)  # Error relativo en b\n",
    "\n",
    "# Sensibilidad\n",
    "sensitivity = errb / errx  # Sensibilidad\n",
    "\n",
    "# Imprimir resultados\n",
    "print(\"Error relativo en x (errx):\", errx * 100, \"%\")\n",
    "print(\"Error relativo en b (errb):\", errb * 100, \"%\")\n",
    "print(\"Sensibilidad (errb / errx):\", sensitivity)"
   ]
  },
  {
   "cell_type": "markdown",
   "id": "28da4fea-6dc8-45c4-8783-52ee60a161f3",
   "metadata": {},
   "source": [
    "# Ejemplo de sensibilidad en 3 dimensiones"
   ]
  },
  {
   "cell_type": "code",
   "execution_count": 2,
   "id": "1954d9d7-f6b4-476f-ba6b-6c39c5e6fc08",
   "metadata": {},
   "outputs": [
    {
     "name": "stdout",
     "output_type": "stream",
     "text": [
      "Error relativo en x (errx): 8.16496580927726 %\n",
      "Error relativo en b (errb): 19.999998735916044 %\n",
      "Sensibilidad (errb / errx): 2.449489587965144\n"
     ]
    }
   ],
   "source": [
    "import numpy as np\n",
    "\n",
    "epsilon = 0.8 #contraccion\n",
    "\n",
    "# Matriz A muy mal condicionada en 3 dimensiones\n",
    "A = np.array([[1e+4, 15e+10, 10],\n",
    "              [20, 3e+10, 1 + 1e-10],  # Pequeña diferencia en la segunda fila\n",
    "              [10, 2e+10+ 1e-10, 10]])  # Pequeña diferencia en la tercera fila\n",
    "\n",
    "# Vectores x y xp\n",
    "x = np.array([[1000],  # Valor inicial mayor para amplificar el resultado\n",
    "              [1000],\n",
    "              [2000]])\n",
    "\n",
    "xp = np.array([[1000],  # Sin cambios\n",
    "               [1000*epsilon ], #Cambio en el segundo elemento\n",
    "               [2000]])  # Sin cambio en el tercer elemento\n",
    "\n",
    "# Cálculo de b y bp\n",
    "b = A.dot(x)\n",
    "bp = A.dot(xp)\n",
    "\n",
    "# Cálculo de errores relativos\n",
    "errx = np.linalg.norm(x - xp) / np.linalg.norm(x)  # Error relativo en x\n",
    "errb = np.linalg.norm(b - bp) / np.linalg.norm(b)  # Error relativo en b\n",
    "\n",
    "# Sensibilidad\n",
    "sensitivity = errb / errx  # Sensibilidad\n",
    "\n",
    "# Imprimir resultados\n",
    "print(\"Error relativo en x (errx):\", errx * 100, \"%\")\n",
    "print(\"Error relativo en b (errb):\", errb * 100, \"%\")\n",
    "print(\"Sensibilidad (errb / errx):\", sensitivity)"
   ]
  },
  {
   "cell_type": "markdown",
   "id": "e1c5e84a-f3e0-4928-8ef6-3465327a452b",
   "metadata": {},
   "source": [
    "# Ejemplo de sensibilidad en 4 dimensiones"
   ]
  },
  {
   "cell_type": "code",
   "execution_count": 3,
   "id": "6459d5d7-eda3-406d-8e50-ea5720fa3859",
   "metadata": {},
   "outputs": [
    {
     "name": "stdout",
     "output_type": "stream",
     "text": [
      "Error relativo en x (errx): 10.0 %\n",
      "Error relativo en b (errb): 24.999998419879287 %\n",
      "Sensibilidad (errb / errx): 2.4999998419879286\n"
     ]
    }
   ],
   "source": [
    "import numpy as np\n",
    "\n",
    "epsilon = 1.25 #dilatacion\n",
    "\n",
    "# Matriz A muy mal condicionada en 4 dimensiones\n",
    "A = np.array([[1e+4, 15e+10, 10, 1e-5],\n",
    "              [20, 3e+10, 1 + 1e-10, 1],\n",
    "              [10, 2e+10 + 1e-10, 10, 1e-3],\n",
    "              [1, 1, 1, 1]])  # Pequeña diferencia en la última fila\n",
    "\n",
    "# Vectores x y xp\n",
    "x = np.array([[1000],  # Valor inicial mayor para amplificar el resultado\n",
    "              [1000],\n",
    "              [2000],\n",
    "              [500]])  # Valor para el cuarto elemento\n",
    "\n",
    "xp = np.array([[1000],  # Sin cambios\n",
    "               [1000 * epsilon],  # Cambio en el segundo elemento\n",
    "               [2000],\n",
    "               [500]])  # Sin cambio en el cuarto elemento\n",
    "\n",
    "# Cálculo de b y bp\n",
    "b = A.dot(x)\n",
    "bp = A.dot(xp)\n",
    "\n",
    "# Cálculo de errores relativos\n",
    "errx = np.linalg.norm(x - xp) / np.linalg.norm(x)  # Error relativo en x\n",
    "errb = np.linalg.norm(b - bp) / np.linalg.norm(b)  # Error relativo en b\n",
    "\n",
    "# Sensibilidad\n",
    "sensitivity = errb / errx  # Sensibilidad\n",
    "\n",
    "# Imprimir resultados\n",
    "print(\"Error relativo en x (errx):\", errx * 100, \"%\")\n",
    "print(\"Error relativo en b (errb):\", errb * 100, \"%\")\n",
    "print(\"Sensibilidad (errb / errx):\", sensitivity)"
   ]
  },
  {
   "cell_type": "markdown",
   "id": "22b1e91f-557a-4d62-adc1-53fb5802b19a",
   "metadata": {},
   "source": [
    "# Ejemplo de sensibilidad en 5 dimensiones"
   ]
  },
  {
   "cell_type": "code",
   "execution_count": 4,
   "id": "28da54b0-822f-4002-a460-7dbbb7cccd9a",
   "metadata": {},
   "outputs": [
    {
     "name": "stdout",
     "output_type": "stream",
     "text": [
      "Error relativo en x (errx): 13.900275738816909 %\n",
      "Error relativo en b (errb): 34.999997787822174 %\n",
      "Sensibilidad (errb / errx): 2.5179355032565076\n"
     ]
    }
   ],
   "source": [
    "import numpy as np\n",
    "\n",
    "epsilon = 0.65 #contraccion\n",
    "\n",
    "# Matriz A muy mal condicionada en 5 dimensiones\n",
    "A = np.array([[1e+4, 15e+10, 10, 1e-5, 1e-6],\n",
    "              [20, 3e+10, 1 + 1e-10, 1, 1e-4],\n",
    "              [10, 2e+10 + 1e-10, 10, 1e-3, 1],\n",
    "              [1, 1, 1, 1, 1],\n",
    "              [1e-6, 1e-4, 1, 1, 1 + 1e-5]])  # Pequeña diferencia en la última fila\n",
    "\n",
    "# Vectores x y xp\n",
    "x = np.array([[1000],  # Valor inicial mayor para amplificar el resultado\n",
    "              [1000],\n",
    "              [2000],\n",
    "              [500],\n",
    "              [300]])  # Valor para el quinto elemento\n",
    "\n",
    "xp = np.array([[1000],  # Sin cambios\n",
    "               [1000 * epsilon],  # Cambio en el segundo elemento\n",
    "               [2000],\n",
    "               [500],\n",
    "               [300]])  # Sin cambio en el quinto elemento\n",
    "\n",
    "# Cálculo de b y bp\n",
    "b = A.dot(x)\n",
    "bp = A.dot(xp)\n",
    "\n",
    "# Cálculo de errores relativos\n",
    "errx = np.linalg.norm(x - xp) / np.linalg.norm(x)  # Error relativo en x\n",
    "errb = np.linalg.norm(b - bp) / np.linalg.norm(b)  # Error relativo en b\n",
    "\n",
    "# Sensibilidad\n",
    "sensitivity = errb / errx  # Sensibilidad\n",
    "\n",
    "# Imprimir resultados\n",
    "print(\"Error relativo en x (errx):\", errx * 100, \"%\")\n",
    "print(\"Error relativo en b (errb):\", errb * 100, \"%\")\n",
    "print(\"Sensibilidad (errb / errx):\", sensitivity)\n"
   ]
  }
 ],
 "metadata": {
  "kernelspec": {
   "display_name": "Python 3 (ipykernel)",
   "language": "python",
   "name": "python3"
  },
  "language_info": {
   "codemirror_mode": {
    "name": "ipython",
    "version": 3
   },
   "file_extension": ".py",
   "mimetype": "text/x-python",
   "name": "python",
   "nbconvert_exporter": "python",
   "pygments_lexer": "ipython3",
   "version": "3.10.12"
  }
 },
 "nbformat": 4,
 "nbformat_minor": 5
}
