{
 "cells": [
  {
   "cell_type": "markdown",
   "id": "81ba11cf-d829-430b-9b4c-d7c60c3fe701",
   "metadata": {},
   "source": [
    "# Instrucciones para Resolver Sistemas Ax=b y By=b\n",
    "\n",
    "Se te proporciona una serie de tablas en la cual la última columna corresponde a un elemento conocido como **etiqueta**, y el resto de columnas se conoce como **características**. Tu tarea es llevar a cabo los siguientes pasos **sin el uso de funciones definidas (`def`)**, para que te familiarices con lo que sucede detrás al usar herramientas como scikit-learn de Python:\n",
    "\n",
    "### 1. Descomponer las tablas\n",
    "Descompón las tablas en:\n",
    "- **Matriz A:** que contiene todas las características.\n",
    "- **Vector b:** que contiene las etiquetas.\n",
    "\n",
    "### 2. Generar la Matriz Ampliada B\n",
    "Genera una matriz ampliada **B** añadiendo una primera columna de $1's$ y el resto con los valores de la matriz **A**, de modo que:\n",
    "$$ B = [1|A] $$\n",
    "\n",
    "### 3. Cálculo del Determinante\n",
    "En los casos en que sea posible, calcula el determinante de las matrices **A** y **B**:\n",
    "- Determinante de **A**: $ \\text{det}(A) $\n",
    "- Determinante de **B**: $ \\text{det}(B) $\n",
    "\n",
    "### 4. Cálculo del Rango\n",
    "Calcula el rango de las matrices:\n",
    "- **Rango de A**: $ \\text{rank}(A) $\n",
    "- **Rango de B**: $ \\text{rank}(B) $\n",
    "\n",
    "También, calcula el rango de las matrices ampliadas **[A|b]** y **[B|b]**:\n",
    "$$ \\text{rank}( [A|b] ) \\quad \\text{y} \\quad \\text{rank}( [B|b] ) $$\n",
    "\n",
    "### 5. Clasificación de los Sistemas\n",
    "Clasifica los sistemas:\n",
    "- **Ax=b**\n",
    "- **By=b**\n",
    "\n",
    "según la clasificación de sistemas de ecuaciones lineales (determinado, indeterminado, o incompatible) basado en los rangos obtenidos.\n",
    "\n",
    "### 6. Resolución de los Sistemas\n",
    "Resuelve los sistemas utilizando:\n",
    "- **Matriz inversa** si el sistema es determinado: $ x = A^{-1}b $\n",
    "- **Pseudoinversa** en caso de ser un sistema indeterminado: $ x = A^{+}b $\n",
    "\n",
    "Haz lo mismo para **B**:\n",
    "$$ y = B^{-1}b \\quad \\text{o} \\quad y = B^{+}b $$\n",
    "\n",
    "### 7. Análisis de Estabilidad\n",
    "Realiza un análisis de estabilidad de los sistemas a través de dilataciones y contracciones de las soluciones en factores del:\n",
    "- $0.5\\%$, $1\\%$, $2\\%$, $5\\%$, y $10\\%$.\n",
    "\n",
    "Analiza los cambios porcentuales que se generan en las soluciones $b'$ perturbadas en relación con la $b$ real.\n",
    "\n",
    "### 8. Intervalos de Confianza\n",
    "Con el análisis anterior, establece una clase de intervalos de confianza en terminos de porcentaje para las soluciones obtenidas, considerando que:\n",
    "- Las **dilataciones** podrían simular el redondeo o pérdida de precisión en los decimales de las soluciones.\n",
    "- Las **contracciones** podrían simular errores numéricos pequeños o fluctuaciones en los datos originales.\n",
    "\n",
    "### 9. Interpolantes\n",
    "Las soluciones de los sistemas **Ax=b** y **By=b** pueden utilizarse para construir interpolantes:\n",
    "- **Sin término independiente** para **Ax=b**.\n",
    "- **Con término independiente** para **By=b**.\n",
    "\n",
    "Construye dichos interpolantes.\n",
    "\n",
    "### 10. Comparación de los Interpolantes\n",
    "Analiza cuál de los interpolantes proporciona una solución más cercana a los valores de $b$, y argumenta si eso sería suficiente para justificar si es una mejor solución para el problema de interpolación.\n"
   ]
  },
  {
   "cell_type": "code",
   "execution_count": null,
   "id": "1095e615-99af-4d03-9fd3-8ecdab4a42a3",
   "metadata": {},
   "outputs": [],
   "source": [
    "# tabla (6x6)\n",
    "tabla = np.array([[0.32047, 0.82356, 0.25645, 0.49580, 0.67355, 0.61427],\n",
    "                  [0.29187, 0.44708, 0.19897, 0.89325, 0.73233, 0.89347],\n",
    "                  [0.13883, 0.64831, 0.02541, 0.84798, 0.57868, 0.37958],\n",
    "                  [0.89019, 0.36956, 0.23375, 0.45624, 0.18749, 0.25037],\n",
    "                  [0.54278, 0.18745, 0.96885, 0.25942, 0.65492, 0.12485],\n",
    "                  [0.76956, 0.06538, 0.49874, 0.82947, 0.86217, 0.78432]])\n"
   ]
  },
  {
   "cell_type": "code",
   "execution_count": null,
   "id": "fea8f173-3353-4eb5-9898-c2a35df4b7b4",
   "metadata": {},
   "outputs": [],
   "source": [
    "# tabla (6x6)\n",
    "tabla = np.array([[0.42533, 0.30128, 0.67274, 0.56891, 0.84945, 0.61348],\n",
    "                  [0.89747, 0.25390, 0.18011, 0.45375, 0.61618, 0.23765],\n",
    "                  [0.53472, 0.74909, 0.10292, 0.92582, 0.42937, 0.97256],\n",
    "                  [0.82625, 0.66803, 0.48776, 0.61463, 0.06765, 0.81539],\n",
    "                  [0.16523, 0.81656, 0.41254, 0.72114, 0.82603, 0.15945],\n",
    "                  [0.72064, 0.37514, 0.57535, 0.25643, 0.53927, 0.69474]])\n"
   ]
  },
  {
   "cell_type": "code",
   "execution_count": null,
   "id": "6d7477b6-d435-4753-9642-2a760b70bc0b",
   "metadata": {},
   "outputs": [],
   "source": [
    "# tabla (8x7)\n",
    "tabla = np.array([[0.74898, 0.28122, 0.52920, 0.56900, 0.91599, 0.26114, 0.85767],\n",
    "                  [0.87788, 0.57300, 0.21391, 0.18360, 0.27809, 0.47191, 0.52021],\n",
    "                  [0.87446, 0.54117, 0.65085, 0.02731, 0.92548, 0.95857, 0.84126],\n",
    "                  [0.44242, 0.31208, 0.45062, 0.48809, 0.24730, 0.08539, 0.49884],\n",
    "                  [0.36721, 0.45338, 0.60793, 0.01837, 0.66224, 0.12615, 0.33194],\n",
    "                  [0.54924, 0.69931, 0.05451, 0.81977, 0.56267, 0.36233, 0.99719],\n",
    "                  [0.77000, 0.20419, 0.72319, 0.47703, 0.62884, 0.70215, 0.00228],\n",
    "                  [0.59750, 0.39309, 0.90533, 0.88076, 0.34626, 0.56525, 0.59347]])\n"
   ]
  },
  {
   "cell_type": "code",
   "execution_count": null,
   "id": "1b687790-df1c-4ee7-b646-51ef278cf8c4",
   "metadata": {},
   "outputs": [],
   "source": [
    "# tabla (8x7)\n",
    "tabla = np.array([[0.43217, 0.27185, 0.63925, 0.14753, 0.65845, 0.72451, 0.92756],\n",
    "                  [0.85973, 0.55467, 0.10348, 0.38429, 0.97862, 0.30109, 0.36874],\n",
    "                  [0.18459, 0.66988, 0.47842, 0.82746, 0.13367, 0.93471, 0.74512],\n",
    "                  [0.04917, 0.76520, 0.56264, 0.05618, 0.31561, 0.90881, 0.09857],\n",
    "                  [0.70551, 0.97730, 0.84481, 0.27559, 0.12154, 0.54392, 0.64783],\n",
    "                  [0.96104, 0.86563, 0.05429, 0.34809, 0.25537, 0.21155, 0.28367],\n",
    "                  [0.57384, 0.78641, 0.19932, 0.14379, 0.47252, 0.20055, 0.18792],\n",
    "                  [0.31864, 0.96378, 0.48521, 0.11467, 0.89523, 0.69090, 0.45634]])"
   ]
  },
  {
   "cell_type": "code",
   "execution_count": null,
   "id": "83eab68b-673c-4024-aa9b-8743219b443a",
   "metadata": {},
   "outputs": [],
   "source": [
    "# tabla (6x7)\n",
    "tabla = np.array([[0.42074, 0.65412, 0.71950, 0.81775, 0.39471, 0.74543, 0.67315],\n",
    "                  [0.12866, 0.89460, 0.56291, 0.21824, 0.99422, 0.40157, 0.58752],\n",
    "                  [0.51278, 0.70214, 0.28451, 0.45349, 0.07861, 0.13209, 0.24194],\n",
    "                  [0.89752, 0.67005, 0.46527, 0.84486, 0.87365, 0.26328, 0.45833],\n",
    "                  [0.18930, 0.49567, 0.95384, 0.27422, 0.10112, 0.65198, 0.78461],\n",
    "                  [0.36893, 0.76034, 0.01245, 0.21353, 0.07645, 0.84261, 0.03150]])\n"
   ]
  },
  {
   "cell_type": "code",
   "execution_count": null,
   "id": "735cd64e-0e2a-4dd1-8aec-e99cdd5b7a26",
   "metadata": {},
   "outputs": [],
   "source": [
    "# tabla (8x7)\n",
    "tabla = np.array([[0.74898, 0.28122, 0.52920, 0.56900, 0.91599, 0.26114, 0.85767],\n",
    "                  [0.87788, 0.57300, 0.21391, 0.18360, 0.27809, 0.47191, 0.52021],\n",
    "                  [0.87446, 0.54117, 0.65085, 0.02731, 0.92548, 0.95857, 0.84126],\n",
    "                  [0.44242, 0.31208, 0.45062, 0.48809, 0.24730, 0.08539, 0.49884],\n",
    "                  [0.36721, 0.45338, 0.60793, 0.01837, 0.66224, 0.12615, 0.33194],\n",
    "                  [0.54924, 0.69931, 0.05451, 0.81977, 0.56267, 0.36233, 0.99719],\n",
    "                  [0.77000, 0.20419, 0.72319, 0.47703, 0.62884, 0.70215, 0.00228],\n",
    "                  [0.59750, 0.39309, 0.90533, 0.88076, 0.34626, 0.56525, 0.59347]])\n"
   ]
  }
 ],
 "metadata": {
  "kernelspec": {
   "display_name": "Python 3 (ipykernel)",
   "language": "python",
   "name": "python3"
  },
  "language_info": {
   "codemirror_mode": {
    "name": "ipython",
    "version": 3
   },
   "file_extension": ".py",
   "mimetype": "text/x-python",
   "name": "python",
   "nbconvert_exporter": "python",
   "pygments_lexer": "ipython3",
   "version": "3.10.12"
  }
 },
 "nbformat": 4,
 "nbformat_minor": 5
}
