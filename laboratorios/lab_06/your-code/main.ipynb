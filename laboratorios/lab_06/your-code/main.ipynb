{
 "cells": [
  {
   "cell_type": "markdown",
   "id": "796c4cab-f527-44a5-9389-503064db97d3",
   "metadata": {},
   "source": [
    "### 1. Importa el paquete NUMPY bajo el nombre np."
   ]
  },
  {
   "cell_type": "code",
   "execution_count": 1,
   "id": "da9bc7bc-8fce-4c08-ab65-0e748b4e20b5",
   "metadata": {},
   "outputs": [],
   "source": [
    "#[tu código aquí]"
   ]
  },
  {
   "cell_type": "markdown",
   "id": "8aa76170-4c90-4f06-8354-baad9d9c72b9",
   "metadata": {},
   "source": [
    "### 2. Imprime la versión de NUMPY y la configuración."
   ]
  },
  {
   "cell_type": "code",
   "execution_count": 2,
   "id": "8e259252-c4e3-4d63-8040-c433dfb6151d",
   "metadata": {},
   "outputs": [],
   "source": [
    "#[tu código aquí]"
   ]
  },
  {
   "cell_type": "markdown",
   "id": "20b221d2-72cb-4ff6-a261-d533794388f9",
   "metadata": {},
   "source": [
    "### 3. Genera un array tridimensional de 2x3x5 con valores aleatorios. Asigna el array a la variable \"a\"\n",
    " Desafío: hay al menos tres maneras fáciles que usan numpy para generar arrays aleatorios. ¿Cuántas formas puedes encontrar?"
   ]
  },
  {
   "cell_type": "code",
   "execution_count": 3,
   "id": "8a7b3ade-201b-4ec3-86a2-3106b76e7404",
   "metadata": {},
   "outputs": [],
   "source": [
    "#[tu código aquí]"
   ]
  },
  {
   "cell_type": "markdown",
   "id": "d324538c-51e7-4911-988d-bf8d50555100",
   "metadata": {},
   "source": [
    "### 4. Imprime a."
   ]
  },
  {
   "cell_type": "code",
   "execution_count": 4,
   "id": "966a98b9-ac9f-4454-bb8a-a16c807bec18",
   "metadata": {},
   "outputs": [],
   "source": [
    "#[tu código aquí]"
   ]
  },
  {
   "cell_type": "markdown",
   "id": "027b2318-b4bf-4a21-ada1-24a1076c6e00",
   "metadata": {},
   "source": [
    "### 5. Crea un array tridimensional de 5x2x3 con todos los valores igual a 1.\n",
    "Asigna el array a la variable \"b\""
   ]
  },
  {
   "cell_type": "code",
   "execution_count": 5,
   "id": "5450680b-9ba6-4ce2-8fda-dd4d5948349e",
   "metadata": {},
   "outputs": [],
   "source": [
    "#[tu código aquí]"
   ]
  },
  {
   "cell_type": "markdown",
   "id": "c4c6f4b7-d2fc-41b9-8357-3a4cb71d1c67",
   "metadata": {},
   "source": [
    "### 6. Imprime b."
   ]
  },
  {
   "cell_type": "code",
   "execution_count": 6,
   "id": "98d2bc56-bd2b-4701-adcc-38e5acebd449",
   "metadata": {},
   "outputs": [],
   "source": [
    "#[tu código aquí]"
   ]
  },
  {
   "cell_type": "markdown",
   "id": "35732bd9-d608-4118-b901-1d17a7fbda2f",
   "metadata": {},
   "source": [
    "### 7. ¿Tienen a y b el mismo tamaño? ¿Cómo lo demuestras en código Python?"
   ]
  },
  {
   "cell_type": "code",
   "execution_count": 7,
   "id": "11446d38-28ac-4e98-9ed6-81992a359c36",
   "metadata": {},
   "outputs": [],
   "source": [
    "#[tu código aquí]"
   ]
  },
  {
   "cell_type": "markdown",
   "id": "469b50b4-cba7-43bd-984e-09bb1f730cfc",
   "metadata": {},
   "source": [
    "### 8. ¿Es posible sumar a y b? ¿Por qué sí o por qué no?"
   ]
  },
  {
   "cell_type": "code",
   "execution_count": 8,
   "id": "820f2820-7b1d-404a-9e5d-7e0e706ff3f8",
   "metadata": {},
   "outputs": [],
   "source": [
    "#[tu código aquí]"
   ]
  },
  {
   "cell_type": "markdown",
   "id": "2c943733-6b28-4f57-ac85-aba652716272",
   "metadata": {},
   "source": [
    "### 9. Transpone b para que tenga la misma estructura que a (es decir, se convierta en un array de 2x3x5). Asigna el array transpuesto a la variable \"c\".\n"
   ]
  },
  {
   "cell_type": "code",
   "execution_count": 9,
   "id": "a5f48cbe-7d14-4e0c-af6d-86ba790f0e19",
   "metadata": {},
   "outputs": [],
   "source": [
    "#[tu código aquí]"
   ]
  },
  {
   "cell_type": "markdown",
   "id": "c4ab9191-ac12-4e95-a0f2-e94381cf75d1",
   "metadata": {},
   "source": [
    "### 10. Intenta sumar a y c. Ahora debería funcionar. Asigna la suma a la variable \"d\". Pero, ¿por qué funciona ahora?"
   ]
  },
  {
   "cell_type": "code",
   "execution_count": 10,
   "id": "6f474536-af96-46e0-b090-0af8a398cba0",
   "metadata": {},
   "outputs": [],
   "source": [
    "#[tu código aquí]"
   ]
  },
  {
   "cell_type": "markdown",
   "id": "dfb440c5-1559-4fce-9c48-01f4c4ff227a",
   "metadata": {},
   "source": [
    "### 11. Imprime a y d. ¿Notas la diferencia y la relación entre los dos arrays en términos de los valores? Explica."
   ]
  },
  {
   "cell_type": "code",
   "execution_count": 11,
   "id": "612edaaf-50f9-4e82-811a-97002b8df5dd",
   "metadata": {},
   "outputs": [],
   "source": [
    "#[tu código aquí]"
   ]
  },
  {
   "cell_type": "markdown",
   "id": "d7e5e02e-b182-4bde-9a4a-e71050c0c36a",
   "metadata": {},
   "source": [
    "### 12. Multiplica a y c. Asigna el resultado a e."
   ]
  },
  {
   "cell_type": "code",
   "execution_count": 12,
   "id": "315a4e1f-909c-40ff-952a-a0c43ce1cb5f",
   "metadata": {},
   "outputs": [],
   "source": [
    "#[tu código aquí]"
   ]
  },
  {
   "cell_type": "markdown",
   "id": "1c090d3b-d440-4502-a902-a81a44cce009",
   "metadata": {},
   "source": [
    "### 13. ¿Es e igual a a? ¿Por qué sí o por qué no?"
   ]
  },
  {
   "cell_type": "code",
   "execution_count": 13,
   "id": "fe47db25-2aa7-40e4-9bcd-cda25d8256a2",
   "metadata": {},
   "outputs": [],
   "source": [
    "#[tu código aquí]"
   ]
  },
  {
   "cell_type": "markdown",
   "id": "da6659a5-a150-4f13-916d-c582e4f5938e",
   "metadata": {},
   "source": [
    "### 14. Identifica los valores máximos, mínimos y medios en d. Asigna esos valores a las variables \"d_max\", \"d_min\" y \"d_mean\"\n"
   ]
  },
  {
   "cell_type": "code",
   "execution_count": 14,
   "id": "febc4cbb-5c93-4ce8-bf9d-61f1be9b0316",
   "metadata": {},
   "outputs": [],
   "source": [
    "#[tu código aquí]"
   ]
  },
  {
   "cell_type": "markdown",
   "id": "87c23af2-9284-402d-b00d-d95789e07335",
   "metadata": {},
   "source": [
    "### 15. Ahora queremos etiquetar los valores en d. Primero crea un array vacío \"f\" con la misma forma (es decir, 2x3x5) que d usando `np.empty`.\n"
   ]
  },
  {
   "cell_type": "code",
   "execution_count": 15,
   "id": "52467b9c-6254-4c01-8131-9c83888aee4c",
   "metadata": {},
   "outputs": [],
   "source": [
    "#[tu código aquí]"
   ]
  },
  {
   "cell_type": "markdown",
   "id": "c6c98967-da48-4c10-8569-73ba1c1c6c5a",
   "metadata": {},
   "source": [
    "### 16. Rellena los valores en f. Para cada valor en d, si es mayor que d_min pero menor que d_mean, asigna 25 al valor correspondiente en f.\n",
    "- Si un valor en d es mayor que d_mean pero menor que d_max, asigna 75 al valor correspondiente en f.\n",
    "- Si un valor es igual a d_mean, asigna 50 al valor correspondiente en f.\n",
    "- Asigna 0 al valor correspondiente(s) en f para d_min en d.\n",
    "- Asigna 100 al valor correspondiente(s) en f para d_max en d.\n",
    "- Al final, f debería tener solo los siguientes valores: 0, 25, 50, 75 y 100.\n"
   ]
  },
  {
   "cell_type": "code",
   "execution_count": 16,
   "id": "2e1b4e2b-655f-40e8-8988-de9b24212884",
   "metadata": {},
   "outputs": [],
   "source": [
    "#[tu código aquí]"
   ]
  },
  {
   "cell_type": "markdown",
   "id": "0543ff88-8dfc-4a11-9d3e-a1f0c8b63e9d",
   "metadata": {},
   "source": [
    "### 17. Imprime d y f. ¿Tienes el f esperado?\n",
    "Por ejemplo, si tu d es: \n",
    "```python\n",
    "array([[[1.85836099, 1.67064465, 1.62576044, 1.40243961, 1.88454931],\n",
    "        [1.75354326, 1.69403643, 1.36729252, 1.61415071, 1.12104981],\n",
    "        [1.72201435, 1.1862918 , 1.87078449, 1.7726778 , 1.88180042]],\n",
    "       [[1.44747908, 1.31673383, 1.02000951, 1.52218947, 1.97066381],\n",
    "        [1.79129243, 1.74983003, 1.96028037, 1.85166831, 1.65450881],\n",
    "        [1.18068344, 1.9587381 , 1.00656599, 1.93402165, 1.73514584]]])\n",
    "```\n",
    "\n",
    "Tu f debería ser:\n",
    "```python\n",
    "array([[[ 75.,  75.,  75.,  25.,  75.],\n",
    "        [ 75.,  75.,  25.,  25.,  25.],\n",
    "        [ 75.,  25.,  75.,  75.,  75.]],\n",
    "       [[ 25.,  25.,  25.,  25., 100.],\n",
    "        [ 75.,  75.,  75.,  75.,  75.],\n",
    "        [ 25.,  75.,   0.,  75.,  75.]]])\n",
    "```"
   ]
  },
  {
   "cell_type": "code",
   "execution_count": 17,
   "id": "95e1f850-c3bf-4a98-9c76-4b15456bcb6e",
   "metadata": {},
   "outputs": [],
   "source": [
    "#[tu código aquí]"
   ]
  },
  {
   "cell_type": "markdown",
   "id": "d30740a5-bd71-4971-b8ae-42922731ba9c",
   "metadata": {},
   "source": [
    "### 18. Pregunta de bonificación: en lugar de usar números (es decir, 0, 25, 50, 75 y 100), ¿cómo usar valores de cadena  (\"A\", \"B\", \"C\", \"D\" y \"E\") para etiquetar los elementos del array? Esperas el resultado sea:\n",
    "\n",
    "```python\n",
    "array([[[ 'D',  'D',  'D',  'B',  'D'],\n",
    "        [ 'D',  'D',  'B',  'B',  'B'],\n",
    "        [ 'D',  'B',  'D',  'D',  'D']],\n",
    "       [[ 'B',  'B',  'B',  'B',  'E'],\n",
    "        [ 'D',  'D',  'D',  'D',  'D'],\n",
    "        [ 'B',  'D',   'A',  'D', 'D']]])\n",
    "```\n"
   ]
  },
  {
   "cell_type": "code",
   "execution_count": 18,
   "id": "e31ee2d4-b0f1-44ee-aa54-0327ff0dfd4e",
   "metadata": {},
   "outputs": [],
   "source": [
    "#[tu código aquí]"
   ]
  }
 ],
 "metadata": {
  "kernelspec": {
   "display_name": "Python 3 (ipykernel)",
   "language": "python",
   "name": "python3"
  },
  "language_info": {
   "codemirror_mode": {
    "name": "ipython",
    "version": 3
   },
   "file_extension": ".py",
   "mimetype": "text/x-python",
   "name": "python",
   "nbconvert_exporter": "python",
   "pygments_lexer": "ipython3",
   "version": "3.10.12"
  }
 },
 "nbformat": 4,
 "nbformat_minor": 5
}
