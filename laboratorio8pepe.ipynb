{
 "cells": [
  {
   "cell_type": "code",
   "execution_count": 17,
   "id": "90fbe47f-d0a5-41c9-881d-f7844d5c66c2",
   "metadata": {},
   "outputs": [
    {
     "name": "stdout",
     "output_type": "stream",
     "text": [
      "['50', '20', '100', '30', '25', '15', '40', '100', '75']\n",
      "['support@gadgetcorp.com', 'sales@camerainc.com', 'info@soundwave.com', 'contact@techzone.com', 'support@gamesphere.com', 'info@ultratech.com', 'support@visionary.com', 'info@tabletmaker.com', 'support@soundblast.com', 'contact@timesmart.com']\n",
      "[('34', '612', '345', '678'), ('57', '123', '456', '7890'), ('33', '1', '23', '45'), ('34', '987', '654', '321'), ('86', '10', '1234', '5678'), ('34', '912', '345', '678'), ('34', '987', '654', '321'), ('34', '654', '321', '987'), ('34', '321', '654', '987'), ('34', '765', '432', '109')]\n",
      "['gadgetcorp', 'gadgetcorp', 'gadgetcorp', 'camerainc', 'camerainc', 'camera_inc', 'soundwave', 'soundwave', 'soundwave', 'techzone', 'techzone', 'techzone', 'gamesphere', 'gamesphere', 'gamesphere', 'ultratech', 'ultratech', 'ultratech', 'visionary', 'visionary', 'visionary', 'tabletmaker', 'tabletmaker', 'tabletmaker', 'soundblast', 'soundblast', 'soundblast', 'timesmart', 'timesmart', 'timesmart']\n"
     ]
    },
    {
     "ename": "IndexError",
     "evalue": "list index out of range",
     "output_type": "error",
     "traceback": [
      "\u001b[0;31m---------------------------------------------------------------------------\u001b[0m",
      "\u001b[0;31mIndexError\u001b[0m                                Traceback (most recent call last)",
      "Cell \u001b[0;32mIn[17], line 56\u001b[0m\n\u001b[1;32m     51\u001b[0m dispositivos \u001b[38;5;241m=\u001b[39m []\n\u001b[1;32m     52\u001b[0m \u001b[38;5;28;01mfor\u001b[39;00m i \u001b[38;5;129;01min\u001b[39;00m \u001b[38;5;28mrange\u001b[39m(\u001b[38;5;28mlen\u001b[39m(nombres_dispositivos)):\n\u001b[1;32m     53\u001b[0m     dispositivo \u001b[38;5;241m=\u001b[39m {\n\u001b[1;32m     54\u001b[0m         \u001b[38;5;124m\"\u001b[39m\u001b[38;5;124mNombre del dispositivo\u001b[39m\u001b[38;5;124m\"\u001b[39m: nombres_dispositivos[i],\n\u001b[1;32m     55\u001b[0m         \u001b[38;5;124m\"\u001b[39m\u001b[38;5;124mMarca\u001b[39m\u001b[38;5;124m\"\u001b[39m: marcas_dispositivos[i],\n\u001b[0;32m---> 56\u001b[0m         \u001b[38;5;124m\"\u001b[39m\u001b[38;5;124mPrecio\u001b[39m\u001b[38;5;124m\"\u001b[39m: \u001b[43mprecios\u001b[49m\u001b[43m[\u001b[49m\u001b[43mi\u001b[49m\u001b[43m]\u001b[49m,\n\u001b[1;32m     57\u001b[0m         \u001b[38;5;124m\"\u001b[39m\u001b[38;5;124mUnidades en stock\u001b[39m\u001b[38;5;124m\"\u001b[39m: unidades_stock[i],\n\u001b[1;32m     58\u001b[0m         \u001b[38;5;124m\"\u001b[39m\u001b[38;5;124mCorreo\u001b[39m\u001b[38;5;124m\"\u001b[39m: correos[i],\n\u001b[1;32m     59\u001b[0m         \u001b[38;5;124m\"\u001b[39m\u001b[38;5;124mTeléfono\u001b[39m\u001b[38;5;124m\"\u001b[39m: telefonos[i],\n\u001b[1;32m     60\u001b[0m         \u001b[38;5;124m\"\u001b[39m\u001b[38;5;124mRed social\u001b[39m\u001b[38;5;124m\"\u001b[39m: redes_sociales[i],\n\u001b[1;32m     61\u001b[0m         \u001b[38;5;124m\"\u001b[39m\u001b[38;5;124mCódigo del producto\u001b[39m\u001b[38;5;124m\"\u001b[39m: codigos_productos[i]\n\u001b[1;32m     62\u001b[0m     }\n\u001b[1;32m     63\u001b[0m     dispositivos\u001b[38;5;241m.\u001b[39mappend(dispositivo)\n\u001b[1;32m     65\u001b[0m \u001b[38;5;66;03m# Convertir a un DataFrame para una visualización más clara\u001b[39;00m\n",
      "\u001b[0;31mIndexError\u001b[0m: list index out of range"
     ]
    }
   ],
   "source": [
    "import re\n",
    "import pandas as pd\n",
    "\n",
    "\n",
    "texto_html = \"\"\"<html><head> <title>Catálogo de Dispositivos Electrónicos</title></head>\n",
    "<body> <h1>Bienvenidos a nuestra tienda de dispositivos electrónicos</h1> <p>Estamos emocionados de presentar una amplia variedad de productos. Algunos de nuestros artículos más populares incluyen:</p> <div class=\"producto\"> <p>He estado usando un dispositivo increíble llamado <strong>Smartwatch Pro</strong>, <em>Gadget Corp</em>. Te lo recomiendo mucho, realmente es transformador. Por cierto, puedes comprarlo por solo <span>$199.99</span> si te interesa. Recuerda que hay <strong>50 unidades en stock</strong>. Código del producto: <strong>COD-001</strong>.</p> <p>Si deseas más información, contacta a <a href=\"mailto:support@gadgetcorp.com\">support@gadgetcorp.com</a> o llama al +34 612 345 678. ¡No te olvides de seguir a @gadgetcorp en redes sociales!</p> </div> <div class=\"producto\"> <p>En esta sección, también ofrecemos <strong>Cámara Ultra HD</strong>, <em>Camera Inc</em>. Es un clásico, aunque el precio de <span>$299.00</span> podría parecer un poco alto. Aún así, tenemos <strong>20 unidades en stock</strong>. Código del producto: <strong>COD-002</strong>.</p> <p>Puedes enviar un correo a <a href=\"mailto:sales@camerainc.com\">sales@camerainc.com</a> o marcar +57 123 456 7890 para más detalles.</p> <p>Además, ¡sigue a @camera_inc en Twitter para actualizaciones!</p> </div> <div class=\"producto\"> <p>Si te gustan los gadgets innovadores, deberías leer sobre <strong>Auriculares Inalámbricos</strong>, <em>SoundWave</em>. Este producto es ideal para disfrutar de la música. El precio es de solo <span>$89.99</span>. Actualmente, tenemos <strong>100 unidades en stock</strong>. Código del producto: <strong>COD-003</strong>.</p> <p>Para más información, contáctame a <a href=\"mailto:info@soundwave.com\">info@soundwave.com</a> o al +33 1 23 45 67 89. No te olvides de seguir a @soundwave para más contenido interesante.</p> </div> <div class=\"producto\"> <p>He escuchado que <strong>Portátil Ultra Ligero</strong>, <em>TechZone</em> es un gran dispositivo,\n",
    "y su precio es de <span>$799.99</span>. Estamos emocionados de tener <strong>30 unidades en stock</strong>. Código del producto: <strong>COD-004</strong>.</p> <p>La historia es cautivadora, puedes pedir más detalles al <a href=\"mailto:contact@techzone.com\">contact@techzone.com</a> o al +34 987 654 321.</p> <p>No olvides seguir a @techzone en Instagram, ¡ellos comparten mucho contenido interesante!</p> </div> <div class=\"producto\"> <p>Finalmente, para aquellos interesados en videojuegos, <strong>Consola de Juegos Avanzada</strong>, <em>GameSphere</em> es imprescindible. A solo <span>$499.99</span> y con <strong>25 unidades en stock</strong>. Código del producto: <strong>COD-005</strong>.</p> <p>Contacta a <a href=\"mailto:support@gamesphere.com\">support@gamesphere.com</a> o llama al +86 10 1234 5678 para más información.</p> <p>Sigue a @gamesphere para obtener más consejos estratégicos.</p> </div> <div class=\"producto\"> <p>¿Buscas una excelente laptop? <strong>Gamer Laptop X</strong>, <em>UltraTech</em> tiene un rendimiento impresionante. Su precio es de <span>$1,199.00</span> y tenemos <strong>15 unidades en stock</strong>. Código del producto: <strong>COD-006</strong>.</p> <p>Escribe a <a href=\"mailto:info@ultratech.com\">info@ultratech.com</a> o llama al +34 912 345 678 para más información.</p> <p>También puedes seguir a @ultratech en redes sociales.</p> </div> <div class=\"producto\"> <p>Para quienes buscan una pantalla grande, recomendamos el <strong>Monitor 4K</strong>, <em>Visionary</em>. Con un precio de <span>$499.99</span> y <strong>40 unidades en stock</strong>. Código del producto: <strong>COD-007</strong>.</p> <p>Contáctanos a través de <a href=\"mailto:support@visionary.com\">support@visionary.com</a> o llama al +34 987 654 321.</p> <p>Sigue a @visionary en Twitter para más actualizaciones.</p> </div> <div class=\"producto\"> <p>La <strong>Tablet Pro</strong>, <em>TabletMaker</em> es perfecta para el trabajo y el ocio. A solo <span>$349.99</span>, tenemos <strong>60 unidades en\n",
    "stock</strong>. Código del producto: <strong>COD-008</strong>.</p> <p>Envía un correo a <a href=\"mailto:info@tabletmaker.com\">info@tabletmaker.com</a> o llama al +34 654 321 987.</p> <p>No olvides seguir a @tabletmaker en Instagram.</p> </div> <div class=\"producto\"> <p>Para los amantes de la música, los <strong>Altavoces Bluetooth</strong>, <em>SoundBlast</em> son ideales. A un precio de <span>$89.99</span> y <strong>100 unidades en stock</strong>. Código del producto: <strong>COD-009</strong>.</p> <p>Puedes contactarnos a <a href=\"mailto:support@soundblast.com\">support@soundblast.com</a> o al +34 321 654 987.</p> <p>Sigue a @soundblast en redes sociales.</p> </div> <div class=\"producto\"> <p>Por último, los <strong>Relojes Inteligentes</strong>, <em>TimeSmart</em> son perfectos para los entusiastas de la tecnología. Con un precio de <span>$149.99</span> y <strong>75 unidades en stock</strong>. Código del producto: <strong>COD-010</strong>.</p> <p>Para consultas, escribe a <a href=\"mailto:contact@timesmart.com\">contact@timesmart.com</a> o llama al +34 765 432 109.</p> <p>No olvides seguir a @timesmart para más novedades.</p> </div> <p>¡Gracias por visitar nuestra tienda de dispositivos electrónicos! No olvides que también tenemos promociones especiales, así que estate atento. Si necesitas ayuda, estamos aquí para ti. ¡Que tengas un gran día!</p></body></html>\"\"\"\n",
    "\n",
    "# crear patrones\n",
    "\n",
    "# 1. Nombre del dispositivo\n",
    "patron_nombre_dispositivo = re.compile(r'<strong>(.*?)</strong>, <em>')\n",
    "# 2. Marca del dispositivo\n",
    "patron_marca_dispositivo = re.compile(r'<em>(.*?)</em>')\n",
    "\n",
    "# 3. Precio del dispositivo\n",
    "patron_precio = re.compile(r'<span>\\$(\\d+(?:\\.\\d{2}))</span>')\n",
    "# 4. Unidades en stock\n",
    "patron_unidades_stock = re.compile(r'<strong>(\\d+) unidades en stock</strong>')\n",
    "\n",
    "# 5. Correo electrónico\n",
    "patron_correo = re.compile(r'href=\"mailto:(.*?)\"')\n",
    "\n",
    "# 6. Número de teléfono\n",
    "patron_telefono = re.compile(r'\\+(\\d{1,3})[-\\s]?(\\d{1,4})[-\\s]?(\\d{1,4})[-\\s]?(\\d{1,4})')\n",
    "\n",
    "# 7. Información de contacto en redes sociales (nombres de usuario precedidos por @)\n",
    "patron_red_social = re.compile(r'@(\\w+)')\n",
    "\n",
    "# 8. Código del producto\n",
    "patron_codigo_producto = re.compile(r'Código del producto: <strong>(.*?)</strong>')\n",
    "\n",
    "# Buscar todas las coincidencias en el HTML\n",
    "nombres_dispositivos = patron_nombre_dispositivo.findall(texto_html)\n",
    "marcas_dispositivos = patron_marca_dispositivo.findall(texto_html)\n",
    "#print(marcas_dispositivos)\n",
    "precios = patron_precio.findall(texto_html)\n",
    "#print(precios)\n",
    "unidades_stock = patron_unidades_stock.findall(texto_html)\n",
    "print(unidades_stock)\n",
    "correos = patron_correo.findall(texto_html)\n",
    "print(correos)\n",
    "telefonos = patron_telefono.findall(texto_html)\n",
    "print(telefonos)\n",
    "redes_sociales = patron_red_social.findall(texto_html)\n",
    "print(redes_sociales)\n",
    "codigos_productos = patron_codigo_producto.findall(texto_html)\n",
    "\n",
    "# Crear una tabla organizada (lista de diccionarios)\n",
    "dispositivos = []\n",
    "for i in range(len(nombres_dispositivos)):\n",
    "    dispositivo = {\n",
    "        \"Nombre del dispositivo\": nombres_dispositivos[i],\n",
    "        \"Marca\": marcas_dispositivos[i],\n",
    "        \"Precio\": precios[i],\n",
    "        \"Unidades en stock\": unidades_stock[i],\n",
    "        \"Correo\": correos[i],\n",
    "        \"Teléfono\": telefonos[i],\n",
    "        \"Red social\": redes_sociales[i],\n",
    "        \"Código del producto\": codigos_productos[i]\n",
    "    }\n",
    "    dispositivos.append(dispositivo)\n",
    "\n",
    "# Convertir a un DataFrame para una visualización más clara\n",
    "df_dispositivos = pd.DataFrame(dispositivos)\n",
    "\n",
    "# Mostrar la tabla\n",
    "print(df_dispositivos)"
   ]
  },
  {
   "cell_type": "code",
   "execution_count": null,
   "id": "868071c2-b722-483a-b7ea-9b72da6da447",
   "metadata": {},
   "outputs": [],
   "source": []
  }
 ],
 "metadata": {
  "kernelspec": {
   "display_name": "Python 3 (ipykernel)",
   "language": "python",
   "name": "python3"
  },
  "language_info": {
   "codemirror_mode": {
    "name": "ipython",
    "version": 3
   },
   "file_extension": ".py",
   "mimetype": "text/x-python",
   "name": "python",
   "nbconvert_exporter": "python",
   "pygments_lexer": "ipython3",
   "version": "3.10.12"
  }
 },
 "nbformat": 4,
 "nbformat_minor": 5
}
